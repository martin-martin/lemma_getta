{
 "cells": [
  {
   "cell_type": "code",
   "execution_count": 1,
   "metadata": {
    "collapsed": true
   },
   "outputs": [],
   "source": [
    "import csv\n",
    "from collections import OrderedDict, Counter"
   ]
  },
  {
   "cell_type": "code",
   "execution_count": 19,
   "metadata": {
    "collapsed": true
   },
   "outputs": [],
   "source": [
    "# specify language\n",
    "language = \"fr\"\n",
    "# specify file to process:\n",
    "word_freq_file = \"source/words/{0}_full_freq.csv\".format(language)"
   ]
  },
  {
   "cell_type": "code",
   "execution_count": 5,
   "metadata": {
    "collapsed": false
   },
   "outputs": [],
   "source": [
    "with open(word_freq_file, \"r\") as f:\n",
    "    reader = csv.reader(f)\n",
    "    freq = {rows[1]:rows[2] for rows in reader}"
   ]
  },
  {
   "cell_type": "code",
   "execution_count": 6,
   "metadata": {
    "collapsed": false
   },
   "outputs": [],
   "source": [
    "with open(\"source/lemmas/{0}_lemPOS.csv\".format(language), \"r\") as f:\n",
    "    reader = csv.reader(f)\n",
    "    lemmas = {rows[2]:rows[1] for rows in reader}"
   ]
  },
  {
   "cell_type": "code",
   "execution_count": 7,
   "metadata": {
    "collapsed": false,
    "scrolled": true
   },
   "outputs": [],
   "source": [
    "# remove the headers\n",
    "del freq[\"word\"]"
   ]
  },
  {
   "cell_type": "code",
   "execution_count": 8,
   "metadata": {
    "collapsed": false
   },
   "outputs": [],
   "source": [
    "def peek(dictionary, n):\n",
    "    \"\"\"returns n random entries of a dictionary for inspection.\"\"\"\n",
    "    return {k: dictionary[k] for k in list(dictionary.keys())[:n]}"
   ]
  },
  {
   "cell_type": "code",
   "execution_count": 9,
   "metadata": {
    "collapsed": false,
    "scrolled": true
   },
   "outputs": [
    {
     "data": {
      "text/plain": [
       "{'biogicielle': '4',\n",
       " 'dialise': '4',\n",
       " 'restall': '6',\n",
       " 'slusho': '14',\n",
       " 'taldykine': '6'}"
      ]
     },
     "execution_count": 9,
     "metadata": {},
     "output_type": "execute_result"
    }
   ],
   "source": [
    "peek(freq, 5)"
   ]
  },
  {
   "cell_type": "code",
   "execution_count": 10,
   "metadata": {
    "collapsed": false
   },
   "outputs": [
    {
     "data": {
      "text/plain": [
       "{'disloquerons': 'disloquer',\n",
       " 'enfilaient': 'enfiler',\n",
       " 'obéisses': 'obéir',\n",
       " 'subdéléguai': 'subdéléguer',\n",
       " 'ânonnai': 'ânonner'}"
      ]
     },
     "execution_count": 10,
     "metadata": {},
     "output_type": "execute_result"
    }
   ],
   "source": [
    "peek(lemmas, 5)"
   ]
  },
  {
   "cell_type": "code",
   "execution_count": 11,
   "metadata": {
    "collapsed": false
   },
   "outputs": [],
   "source": [
    "new = dict()\n",
    "\n",
    "for w, f in freq.items():\n",
    "    # if the word is an inflection in the lemma dict\n",
    "    if w in lemmas.keys():\n",
    "        # get its lemma form\n",
    "        lem = lemmas[w]\n",
    "        # if the lemma is already in the new dict\n",
    "        if lem in new.keys():\n",
    "            # appends new dict entry to the dict\n",
    "            # mapping the inflection to its frequency\n",
    "            new[lem].update({w: int(f)})\n",
    "        # otherwise create a new entry\n",
    "        else:\n",
    "            new[lem] = {w: int(f)}\n",
    "    # if there is no lemma mapping present\n",
    "    else:\n",
    "        # treat the original word as a lemma and add to dict\n",
    "        no_lem = w\n",
    "        new[no_lem] = {w: int(f)}"
   ]
  },
  {
   "cell_type": "code",
   "execution_count": 12,
   "metadata": {
    "collapsed": false,
    "scrolled": true
   },
   "outputs": [
    {
     "data": {
      "text/plain": [
       "{'amniocent': {'amniocent': 1},\n",
       " 'avantageuseepour': {'avantageuseepour': 1},\n",
       " 'dialise': {'dialise': 4},\n",
       " 'protégait': {'protégait': 9},\n",
       " 'ranawa': {'ranawa': 4},\n",
       " 'restall': {'restall': 6},\n",
       " 'slusho': {'slusho': 14},\n",
       " 'taldykine': {'taldykine': 6},\n",
       " 'taïne': {'taïne': 1},\n",
       " 'télépathique': {'télépathique': 379, 'télépathiques': 186}}"
      ]
     },
     "execution_count": 12,
     "metadata": {},
     "output_type": "execute_result"
    }
   ],
   "source": [
    "peek(new, 10)"
   ]
  },
  {
   "cell_type": "code",
   "execution_count": 13,
   "metadata": {
    "collapsed": true
   },
   "outputs": [],
   "source": [
    "freq_dict = dict()\n",
    "\n",
    "for k, v in new.items():\n",
    "    # adding all the separate inflection frequencies\n",
    "    lem_freq = sum(f for f in new[k].values())\n",
    "    freq_dict[k] = (lem_freq, new[k])"
   ]
  },
  {
   "cell_type": "code",
   "execution_count": 15,
   "metadata": {
    "collapsed": false,
    "scrolled": true
   },
   "outputs": [
    {
     "data": {
      "text/plain": [
       "{'aborte': (1, {'aborte': 1}),\n",
       " 'amniocent': (1, {'amniocent': 1}),\n",
       " 'beauvallon': (4, {'beauvallon': 4}),\n",
       " 'busily': (3, {'busily': 3}),\n",
       " 'chaussé': (163, {'chaussé': 118, 'chaussés': 45}),\n",
       " 'chritine': (3, {'chritine': 3}),\n",
       " 'dialise': (4, {'dialise': 4}),\n",
       " 'hirame': (4, {'hirame': 4}),\n",
       " 'maegen': (1, {'maegen': 1}),\n",
       " 'protégait': (9, {'protégait': 9}),\n",
       " 'ranawa': (4, {'ranawa': 4}),\n",
       " 'repprendre': (3, {'repprendre': 3}),\n",
       " 'restall': (6, {'restall': 6}),\n",
       " 'rimpotché': (27, {'rimpotché': 27}),\n",
       " 'robado': (3, {'robado': 3}),\n",
       " 'serpentina': (1, {'serpentina': 1}),\n",
       " 'slusho': (14, {'slusho': 14}),\n",
       " 'sàndor': (1, {'sàndor': 1}),\n",
       " 'taldykine': (6, {'taldykine': 6}),\n",
       " 'torez': (6, {'torez': 6})}"
      ]
     },
     "execution_count": 15,
     "metadata": {},
     "output_type": "execute_result"
    }
   ],
   "source": [
    "peek(freq_dict, 20)"
   ]
  },
  {
   "cell_type": "code",
   "execution_count": 16,
   "metadata": {
    "collapsed": false
   },
   "outputs": [],
   "source": [
    "ordered_freq = OrderedDict(sorted(freq_dict.items(), key=lambda f: f[1][0], reverse=True))"
   ]
  },
  {
   "cell_type": "code",
   "execution_count": 18,
   "metadata": {
    "collapsed": false
   },
   "outputs": [
    {
     "data": {
      "text/plain": [
       "{'avoir': (16474081,\n",
       "  {'a': 6277891,\n",
       "   'ai': 4080333,\n",
       "   'aie': 34287,\n",
       "   'aient': 14058,\n",
       "   'aies': 27526,\n",
       "   'ait': 101758,\n",
       "   'as': 1668078,\n",
       "   'aura': 125574,\n",
       "   'aurai': 56763,\n",
       "   'auraient': 23522,\n",
       "   'aurais': 240254,\n",
       "   'aurait': 201525,\n",
       "   'auras': 49441,\n",
       "   'auriez': 34563,\n",
       "   'aurons': 13507,\n",
       "   'auront': 16718,\n",
       "   'avaient': 62788,\n",
       "   'avait': 549130,\n",
       "   'avez': 924711,\n",
       "   'aviez': 60739,\n",
       "   'avoir': 706351,\n",
       "   'avoirs': 439,\n",
       "   'avons': 305964,\n",
       "   'ayant': 16579,\n",
       "   'ayez': 30157,\n",
       "   'eues': 1754,\n",
       "   'eusse': 468,\n",
       "   'eussent': 398,\n",
       "   'eusses': 15,\n",
       "   'eussions': 58,\n",
       "   'eut': 7644,\n",
       "   'eûmes': 157,\n",
       "   'eût': 4282,\n",
       "   'eûtes': 10,\n",
       "   'ont': 836639}),\n",
       " 'de': (14576466, {'de': 14576466}),\n",
       " 'et': (7103876, {'et': 7103876}),\n",
       " 'je': (33171779,\n",
       "  {'elle': 2445302,\n",
       "   'ils': 1653345,\n",
       "   'je': 13966052,\n",
       "   'tu': 7485851,\n",
       "   'vous': 7621229}),\n",
       " 'le': (9232104, {'le': 9232104}),\n",
       " 'me': (8503212,\n",
       "  {'elles': 201500,\n",
       "   'eux': 162185,\n",
       "   'lui': 1176311,\n",
       "   'me': 2468513,\n",
       "   'nous': 2544905,\n",
       "   'te': 1949798}),\n",
       " 'pas': (9847383, {'pas': 9847383}),\n",
       " 'que': (8452494, {'que': 8452494}),\n",
       " 'un': (12164261, {'un': 7516845, 'une': 4645229, 'unes': 2187}),\n",
       " 'à': (7095144, {'à': 7095144})}"
      ]
     },
     "execution_count": 18,
     "metadata": {},
     "output_type": "execute_result"
    }
   ],
   "source": [
    "peek(ordered_freq, 10)"
   ]
  },
  {
   "cell_type": "code",
   "execution_count": 33,
   "metadata": {
    "collapsed": false
   },
   "outputs": [
    {
     "ename": "TypeError",
     "evalue": "'odict_items' object does not support indexing",
     "output_type": "error",
     "traceback": [
      "\u001b[0;31m---------------------------------------------------------------------------\u001b[0m",
      "\u001b[0;31mTypeError\u001b[0m                                 Traceback (most recent call last)",
      "\u001b[0;32m<ipython-input-33-9280645dbd02>\u001b[0m in \u001b[0;36m<module>\u001b[0;34m()\u001b[0m\n\u001b[1;32m      1\u001b[0m \u001b[0mi\u001b[0m \u001b[0;34m=\u001b[0m \u001b[0;36m0\u001b[0m\u001b[0;34m\u001b[0m\u001b[0m\n\u001b[1;32m      2\u001b[0m \u001b[0;32mwhile\u001b[0m \u001b[0mi\u001b[0m \u001b[0;34m<\u001b[0m \u001b[0;36m5\u001b[0m\u001b[0;34m:\u001b[0m\u001b[0;34m\u001b[0m\u001b[0m\n\u001b[0;32m----> 3\u001b[0;31m     \u001b[0mprint\u001b[0m\u001b[0;34m(\u001b[0m\u001b[0mordered_freq\u001b[0m\u001b[0;34m.\u001b[0m\u001b[0mitems\u001b[0m\u001b[0;34m(\u001b[0m\u001b[0;34m)\u001b[0m\u001b[0;34m[\u001b[0m\u001b[0mi\u001b[0m\u001b[0;34m]\u001b[0m\u001b[0;34m)\u001b[0m\u001b[0;34m\u001b[0m\u001b[0m\n\u001b[0m\u001b[1;32m      4\u001b[0m     \u001b[0mi\u001b[0m \u001b[0;34m+=\u001b[0m \u001b[0;36m1\u001b[0m\u001b[0;34m\u001b[0m\u001b[0m\n",
      "\u001b[0;31mTypeError\u001b[0m: 'odict_items' object does not support indexing"
     ]
    }
   ],
   "source": [
    "i = 0\n",
    "while i < 5:\n",
    "    print(ordered_freq.items()[i])\n",
    "    i += 1"
   ]
  },
  {
   "cell_type": "code",
   "execution_count": null,
   "metadata": {
    "collapsed": true
   },
   "outputs": [],
   "source": [
    "import pandas as pd\n",
    "\n",
    "lemma_freq = {lemma:freq for }\n"
   ]
  },
  {
   "cell_type": "code",
   "execution_count": 35,
   "metadata": {
    "collapsed": false
   },
   "outputs": [],
   "source": [
    "from pprint import pformat\n",
    "import json\n",
    "\n",
    "with open(\"sink/{0}_lemma_freq.json\".format(language), \"w\") as f:\n",
    "    json.dumps(pformat(ordered_freq))"
   ]
  },
  {
   "cell_type": "code",
   "execution_count": 21,
   "metadata": {
    "collapsed": false
   },
   "outputs": [
    {
     "data": {
      "text/plain": [
       "616288"
      ]
     },
     "execution_count": 21,
     "metadata": {},
     "output_type": "execute_result"
    }
   ],
   "source": [
    "len(ordered_freq)"
   ]
  },
  {
   "cell_type": "code",
   "execution_count": null,
   "metadata": {
    "collapsed": true
   },
   "outputs": [],
   "source": []
  }
 ],
 "metadata": {
  "kernelspec": {
   "display_name": "Python [default]",
   "language": "python",
   "name": "python3"
  },
  "language_info": {
   "codemirror_mode": {
    "name": "ipython",
    "version": 3
   },
   "file_extension": ".py",
   "mimetype": "text/x-python",
   "name": "python",
   "nbconvert_exporter": "python",
   "pygments_lexer": "ipython3",
   "version": "3.5.2"
  }
 },
 "nbformat": 4,
 "nbformat_minor": 2
}
